{
  "nbformat": 4,
  "nbformat_minor": 0,
  "metadata": {
    "colab": {
      "provenance": [],
      "collapsed_sections": [
        "oVCaZ301w1Vq",
        "GRum0MEYzh1Z"
      ],
      "include_colab_link": true
    },
    "kernelspec": {
      "name": "python3",
      "display_name": "Python 3"
    },
    "language_info": {
      "name": "python"
    }
  },
  "cells": [
    {
      "cell_type": "markdown",
      "metadata": {
        "id": "view-in-github",
        "colab_type": "text"
      },
      "source": [
        "<a href=\"https://colab.research.google.com/github/PhuongNhi187/TieuLuan_NguyenThiPhuongNhi_2024_2025/blob/main/run.ipynb\" target=\"_parent\"><img src=\"https://colab.research.google.com/assets/colab-badge.svg\" alt=\"Open In Colab\"/></a>"
      ]
    },
    {
      "cell_type": "markdown",
      "source": [
        "#Chuẩn bị"
      ],
      "metadata": {
        "id": "oVCaZ301w1Vq"
      }
    },
    {
      "cell_type": "code",
      "source": [
        "from google.colab import drive\n",
        "drive.mount('/content/gdrive')\n",
        "%cd '/content/gdrive/MyDrive/Tieu_luan/'"
      ],
      "metadata": {
        "id": "B79RMTGW2vJS",
        "colab": {
          "base_uri": "https://localhost:8080/"
        },
        "outputId": "6ecae45d-00b8-4302-850c-42a11bdf96bc"
      },
      "execution_count": null,
      "outputs": [
        {
          "output_type": "stream",
          "name": "stdout",
          "text": [
            "Mounted at /content/gdrive\n",
            "/content/gdrive/MyDrive/Tieu_luan\n"
          ]
        }
      ]
    },
    {
      "cell_type": "code",
      "source": [
        "!pip install pyvi\n",
        "!pip install python-multipart\n",
        "!pip install fastapi uvicorn pyngrok"
      ],
      "metadata": {
        "id": "B84vaCtoU6mb",
        "collapsed": true,
        "colab": {
          "base_uri": "https://localhost:8080/"
        },
        "outputId": "6226448c-c712-4a22-bcc7-e041b34952da"
      },
      "execution_count": null,
      "outputs": [
        {
          "output_type": "stream",
          "name": "stdout",
          "text": [
            "Collecting pyvi\n",
            "  Downloading pyvi-0.1.1-py2.py3-none-any.whl (8.5 MB)\n",
            "\u001b[2K     \u001b[90m━━━━━━━━━━━━━━━━━━━━━━━━━━━━━━━━━━━━━━━━\u001b[0m \u001b[32m8.5/8.5 MB\u001b[0m \u001b[31m19.8 MB/s\u001b[0m eta \u001b[36m0:00:00\u001b[0m\n",
            "\u001b[?25hRequirement already satisfied: scikit-learn in /usr/local/lib/python3.10/dist-packages (from pyvi) (1.2.2)\n",
            "Collecting sklearn-crfsuite (from pyvi)\n",
            "  Downloading sklearn_crfsuite-0.5.0-py2.py3-none-any.whl (10 kB)\n",
            "Requirement already satisfied: numpy>=1.17.3 in /usr/local/lib/python3.10/dist-packages (from scikit-learn->pyvi) (1.25.2)\n",
            "Requirement already satisfied: scipy>=1.3.2 in /usr/local/lib/python3.10/dist-packages (from scikit-learn->pyvi) (1.11.4)\n",
            "Requirement already satisfied: joblib>=1.1.1 in /usr/local/lib/python3.10/dist-packages (from scikit-learn->pyvi) (1.4.2)\n",
            "Requirement already satisfied: threadpoolctl>=2.0.0 in /usr/local/lib/python3.10/dist-packages (from scikit-learn->pyvi) (3.5.0)\n",
            "Collecting python-crfsuite>=0.9.7 (from sklearn-crfsuite->pyvi)\n",
            "  Downloading python_crfsuite-0.9.10-cp310-cp310-manylinux_2_17_x86_64.manylinux2014_x86_64.whl (1.1 MB)\n",
            "\u001b[2K     \u001b[90m━━━━━━━━━━━━━━━━━━━━━━━━━━━━━━━━━━━━━━━━\u001b[0m \u001b[32m1.1/1.1 MB\u001b[0m \u001b[31m37.9 MB/s\u001b[0m eta \u001b[36m0:00:00\u001b[0m\n",
            "\u001b[?25hRequirement already satisfied: tabulate>=0.4.2 in /usr/local/lib/python3.10/dist-packages (from sklearn-crfsuite->pyvi) (0.9.0)\n",
            "Requirement already satisfied: tqdm>=2.0 in /usr/local/lib/python3.10/dist-packages (from sklearn-crfsuite->pyvi) (4.66.4)\n",
            "Installing collected packages: python-crfsuite, sklearn-crfsuite, pyvi\n",
            "Successfully installed python-crfsuite-0.9.10 pyvi-0.1.1 sklearn-crfsuite-0.5.0\n",
            "Collecting python-multipart\n",
            "  Downloading python_multipart-0.0.9-py3-none-any.whl (22 kB)\n",
            "Installing collected packages: python-multipart\n",
            "Successfully installed python-multipart-0.0.9\n",
            "Collecting fastapi\n",
            "  Downloading fastapi-0.111.0-py3-none-any.whl (91 kB)\n",
            "\u001b[2K     \u001b[90m━━━━━━━━━━━━━━━━━━━━━━━━━━━━━━━━━━━━━━━━\u001b[0m \u001b[32m92.0/92.0 kB\u001b[0m \u001b[31m3.6 MB/s\u001b[0m eta \u001b[36m0:00:00\u001b[0m\n",
            "\u001b[?25hCollecting uvicorn\n",
            "  Downloading uvicorn-0.30.1-py3-none-any.whl (62 kB)\n",
            "\u001b[2K     \u001b[90m━━━━━━━━━━━━━━━━━━━━━━━━━━━━━━━━━━━━━━━━\u001b[0m \u001b[32m62.4/62.4 kB\u001b[0m \u001b[31m5.6 MB/s\u001b[0m eta \u001b[36m0:00:00\u001b[0m\n",
            "\u001b[?25hCollecting pyngrok\n",
            "  Downloading pyngrok-7.1.6-py3-none-any.whl (22 kB)\n",
            "Collecting starlette<0.38.0,>=0.37.2 (from fastapi)\n",
            "  Downloading starlette-0.37.2-py3-none-any.whl (71 kB)\n",
            "\u001b[2K     \u001b[90m━━━━━━━━━━━━━━━━━━━━━━━━━━━━━━━━━━━━━━━━\u001b[0m \u001b[32m71.9/71.9 kB\u001b[0m \u001b[31m8.7 MB/s\u001b[0m eta \u001b[36m0:00:00\u001b[0m\n",
            "\u001b[?25hRequirement already satisfied: pydantic!=1.8,!=1.8.1,!=2.0.0,!=2.0.1,!=2.1.0,<3.0.0,>=1.7.4 in /usr/local/lib/python3.10/dist-packages (from fastapi) (2.7.4)\n",
            "Requirement already satisfied: typing-extensions>=4.8.0 in /usr/local/lib/python3.10/dist-packages (from fastapi) (4.12.2)\n",
            "Collecting fastapi-cli>=0.0.2 (from fastapi)\n",
            "  Downloading fastapi_cli-0.0.4-py3-none-any.whl (9.5 kB)\n",
            "Collecting httpx>=0.23.0 (from fastapi)\n",
            "  Downloading httpx-0.27.0-py3-none-any.whl (75 kB)\n",
            "\u001b[2K     \u001b[90m━━━━━━━━━━━━━━━━━━━━━━━━━━━━━━━━━━━━━━━━\u001b[0m \u001b[32m75.6/75.6 kB\u001b[0m \u001b[31m8.9 MB/s\u001b[0m eta \u001b[36m0:00:00\u001b[0m\n",
            "\u001b[?25hRequirement already satisfied: jinja2>=2.11.2 in /usr/local/lib/python3.10/dist-packages (from fastapi) (3.1.4)\n",
            "Requirement already satisfied: python-multipart>=0.0.7 in /usr/local/lib/python3.10/dist-packages (from fastapi) (0.0.9)\n",
            "Collecting ujson!=4.0.2,!=4.1.0,!=4.2.0,!=4.3.0,!=5.0.0,!=5.1.0,>=4.0.1 (from fastapi)\n",
            "  Downloading ujson-5.10.0-cp310-cp310-manylinux_2_17_x86_64.manylinux2014_x86_64.whl (53 kB)\n",
            "\u001b[2K     \u001b[90m━━━━━━━━━━━━━━━━━━━━━━━━━━━━━━━━━━━━━━━━\u001b[0m \u001b[32m53.6/53.6 kB\u001b[0m \u001b[31m9.1 MB/s\u001b[0m eta \u001b[36m0:00:00\u001b[0m\n",
            "\u001b[?25hCollecting orjson>=3.2.1 (from fastapi)\n",
            "  Downloading orjson-3.10.5-cp310-cp310-manylinux_2_17_x86_64.manylinux2014_x86_64.whl (144 kB)\n",
            "\u001b[2K     \u001b[90m━━━━━━━━━━━━━━━━━━━━━━━━━━━━━━━━━━━━━━━━\u001b[0m \u001b[32m145.0/145.0 kB\u001b[0m \u001b[31m7.6 MB/s\u001b[0m eta \u001b[36m0:00:00\u001b[0m\n",
            "\u001b[?25hCollecting email_validator>=2.0.0 (from fastapi)\n",
            "  Downloading email_validator-2.2.0-py3-none-any.whl (33 kB)\n",
            "Requirement already satisfied: click>=7.0 in /usr/local/lib/python3.10/dist-packages (from uvicorn) (8.1.7)\n",
            "Collecting h11>=0.8 (from uvicorn)\n",
            "  Downloading h11-0.14.0-py3-none-any.whl (58 kB)\n",
            "\u001b[2K     \u001b[90m━━━━━━━━━━━━━━━━━━━━━━━━━━━━━━━━━━━━━━━━\u001b[0m \u001b[32m58.3/58.3 kB\u001b[0m \u001b[31m8.4 MB/s\u001b[0m eta \u001b[36m0:00:00\u001b[0m\n",
            "\u001b[?25hRequirement already satisfied: PyYAML>=5.1 in /usr/local/lib/python3.10/dist-packages (from pyngrok) (6.0.1)\n",
            "Collecting dnspython>=2.0.0 (from email_validator>=2.0.0->fastapi)\n",
            "  Downloading dnspython-2.6.1-py3-none-any.whl (307 kB)\n",
            "\u001b[2K     \u001b[90m━━━━━━━━━━━━━━━━━━━━━━━━━━━━━━━━━━━━━━━━\u001b[0m \u001b[32m307.7/307.7 kB\u001b[0m \u001b[31m11.4 MB/s\u001b[0m eta \u001b[36m0:00:00\u001b[0m\n",
            "\u001b[?25hRequirement already satisfied: idna>=2.0.0 in /usr/local/lib/python3.10/dist-packages (from email_validator>=2.0.0->fastapi) (3.7)\n",
            "Requirement already satisfied: typer>=0.12.3 in /usr/local/lib/python3.10/dist-packages (from fastapi-cli>=0.0.2->fastapi) (0.12.3)\n",
            "Requirement already satisfied: anyio in /usr/local/lib/python3.10/dist-packages (from httpx>=0.23.0->fastapi) (3.7.1)\n",
            "Requirement already satisfied: certifi in /usr/local/lib/python3.10/dist-packages (from httpx>=0.23.0->fastapi) (2024.6.2)\n",
            "Collecting httpcore==1.* (from httpx>=0.23.0->fastapi)\n",
            "  Downloading httpcore-1.0.5-py3-none-any.whl (77 kB)\n",
            "\u001b[2K     \u001b[90m━━━━━━━━━━━━━━━━━━━━━━━━━━━━━━━━━━━━━━━━\u001b[0m \u001b[32m77.9/77.9 kB\u001b[0m \u001b[31m11.9 MB/s\u001b[0m eta \u001b[36m0:00:00\u001b[0m\n",
            "\u001b[?25hRequirement already satisfied: sniffio in /usr/local/lib/python3.10/dist-packages (from httpx>=0.23.0->fastapi) (1.3.1)\n",
            "Requirement already satisfied: MarkupSafe>=2.0 in /usr/local/lib/python3.10/dist-packages (from jinja2>=2.11.2->fastapi) (2.1.5)\n",
            "Requirement already satisfied: annotated-types>=0.4.0 in /usr/local/lib/python3.10/dist-packages (from pydantic!=1.8,!=1.8.1,!=2.0.0,!=2.0.1,!=2.1.0,<3.0.0,>=1.7.4->fastapi) (0.7.0)\n",
            "Requirement already satisfied: pydantic-core==2.18.4 in /usr/local/lib/python3.10/dist-packages (from pydantic!=1.8,!=1.8.1,!=2.0.0,!=2.0.1,!=2.1.0,<3.0.0,>=1.7.4->fastapi) (2.18.4)\n",
            "Collecting httptools>=0.5.0 (from uvicorn)\n",
            "  Downloading httptools-0.6.1-cp310-cp310-manylinux_2_5_x86_64.manylinux1_x86_64.manylinux_2_17_x86_64.manylinux2014_x86_64.whl (341 kB)\n",
            "\u001b[2K     \u001b[90m━━━━━━━━━━━━━━━━━━━━━━━━━━━━━━━━━━━━━━━━\u001b[0m \u001b[32m341.4/341.4 kB\u001b[0m \u001b[31m13.9 MB/s\u001b[0m eta \u001b[36m0:00:00\u001b[0m\n",
            "\u001b[?25hCollecting python-dotenv>=0.13 (from uvicorn)\n",
            "  Downloading python_dotenv-1.0.1-py3-none-any.whl (19 kB)\n",
            "Collecting uvloop!=0.15.0,!=0.15.1,>=0.14.0 (from uvicorn)\n",
            "  Downloading uvloop-0.19.0-cp310-cp310-manylinux_2_17_x86_64.manylinux2014_x86_64.whl (3.4 MB)\n",
            "\u001b[2K     \u001b[90m━━━━━━━━━━━━━━━━━━━━━━━━━━━━━━━━━━━━━━━━\u001b[0m \u001b[32m3.4/3.4 MB\u001b[0m \u001b[31m25.5 MB/s\u001b[0m eta \u001b[36m0:00:00\u001b[0m\n",
            "\u001b[?25hCollecting watchfiles>=0.13 (from uvicorn)\n",
            "  Downloading watchfiles-0.22.0-cp310-cp310-manylinux_2_17_x86_64.manylinux2014_x86_64.whl (1.2 MB)\n",
            "\u001b[2K     \u001b[90m━━━━━━━━━━━━━━━━━━━━━━━━━━━━━━━━━━━━━━━━\u001b[0m \u001b[32m1.2/1.2 MB\u001b[0m \u001b[31m40.6 MB/s\u001b[0m eta \u001b[36m0:00:00\u001b[0m\n",
            "\u001b[?25hCollecting websockets>=10.4 (from uvicorn)\n",
            "  Downloading websockets-12.0-cp310-cp310-manylinux_2_5_x86_64.manylinux1_x86_64.manylinux_2_17_x86_64.manylinux2014_x86_64.whl (130 kB)\n",
            "\u001b[2K     \u001b[90m━━━━━━━━━━━━━━━━━━━━━━━━━━━━━━━━━━━━━━━━\u001b[0m \u001b[32m130.2/130.2 kB\u001b[0m \u001b[31m20.2 MB/s\u001b[0m eta \u001b[36m0:00:00\u001b[0m\n",
            "\u001b[?25hRequirement already satisfied: exceptiongroup in /usr/local/lib/python3.10/dist-packages (from anyio->httpx>=0.23.0->fastapi) (1.2.1)\n",
            "Requirement already satisfied: shellingham>=1.3.0 in /usr/local/lib/python3.10/dist-packages (from typer>=0.12.3->fastapi-cli>=0.0.2->fastapi) (1.5.4)\n",
            "Requirement already satisfied: rich>=10.11.0 in /usr/local/lib/python3.10/dist-packages (from typer>=0.12.3->fastapi-cli>=0.0.2->fastapi) (13.7.1)\n",
            "Requirement already satisfied: markdown-it-py>=2.2.0 in /usr/local/lib/python3.10/dist-packages (from rich>=10.11.0->typer>=0.12.3->fastapi-cli>=0.0.2->fastapi) (3.0.0)\n",
            "Requirement already satisfied: pygments<3.0.0,>=2.13.0 in /usr/local/lib/python3.10/dist-packages (from rich>=10.11.0->typer>=0.12.3->fastapi-cli>=0.0.2->fastapi) (2.16.1)\n",
            "Requirement already satisfied: mdurl~=0.1 in /usr/local/lib/python3.10/dist-packages (from markdown-it-py>=2.2.0->rich>=10.11.0->typer>=0.12.3->fastapi-cli>=0.0.2->fastapi) (0.1.2)\n",
            "Installing collected packages: websockets, uvloop, ujson, python-dotenv, pyngrok, orjson, httptools, h11, dnspython, watchfiles, uvicorn, starlette, httpcore, email_validator, httpx, fastapi-cli, fastapi\n",
            "Successfully installed dnspython-2.6.1 email_validator-2.2.0 fastapi-0.111.0 fastapi-cli-0.0.4 h11-0.14.0 httpcore-1.0.5 httptools-0.6.1 httpx-0.27.0 orjson-3.10.5 pyngrok-7.1.6 python-dotenv-1.0.1 starlette-0.37.2 ujson-5.10.0 uvicorn-0.30.1 uvloop-0.19.0 watchfiles-0.22.0 websockets-12.0\n"
          ]
        }
      ]
    },
    {
      "cell_type": "code",
      "source": [
        "import re\n",
        "from pyvi import ViTokenizer\n",
        "import pandas as pd\n",
        "import tensorflow as tf\n",
        "import numpy as np\n",
        "import joblib"
      ],
      "metadata": {
        "id": "mzOxGP-lVWPn"
      },
      "execution_count": null,
      "outputs": []
    },
    {
      "cell_type": "code",
      "source": [
        "correct_char_path = pd.read_table('/content/gdrive/MyDrive/Tieu_luan/Pre-processing/correct_char.txt', delimiter='\\t')\n",
        "correct_char_dict = dict(zip(correct_char_path['char'], correct_char_path['correct_char']))\n",
        "\n",
        "en2vi_path = pd.read_table('/content/gdrive/MyDrive/Tieu_luan/Pre-processing/top_500_adjective_eng.txt', delimiter='\\t')\n",
        "en2vi_dict = dict(zip(en2vi_path['Adj'], en2vi_path['Mean']))\n",
        "\n",
        "teencode_path = pd.read_table('/content/gdrive/MyDrive/Tieu_luan/Pre-processing/teencode.txt', delimiter='\\t')\n",
        "teencode_dict = dict(zip(teencode_path['incorrect'], teencode_path['correct']))\n",
        "def preprocess_text(text):\n",
        "    # Bước 1\n",
        "    text = text.lower()\n",
        "\n",
        "    # Bước 2\n",
        "    def remove_special_words(text):\n",
        "        if not isinstance(text, str): return \"\"\n",
        "        text = re.sub(r'\\#\\w+', '', text)   # Loại bỏ các từ có hashtag (#)\n",
        "        text = re.sub(r'<.*?>', '', text)   # Loại bỏ các thẻ HTML (< >)\n",
        "        text = re.sub(r'http\\S+', '', text)   # Loại bỏ các URL (http://)\n",
        "        text = re.sub(r'@\\w+', '', text)    # Loại bỏ các mention (@)\n",
        "        return text\n",
        "\n",
        "    text = remove_special_words(text)\n",
        "\n",
        "   # Bước 3\n",
        "    def remove_special_characters(text):\n",
        "        text_pre = re.compile(\"[^a-zA-Zàáảãạăắằẳẵặâấầẩẫậèéẻẽẹêếềểễệđíìỉĩịòóỏõọôốồổỗộơớờởỡợùúủũụưứừửữựỳýỷỹỵđ\\s]\")\n",
        "        return re.sub(text_pre, ' ', text)\n",
        "\n",
        "    def correct_char(text):\n",
        "        words = text.split()\n",
        "        for word in words:\n",
        "            for k, v in correct_char_dict.items():\n",
        "                if word == k:\n",
        "                    key = ' '+k+' '\n",
        "                    value = ' '+v+' '\n",
        "                    text = text.replace(key, value)\n",
        "        return text\n",
        "\n",
        "    text = remove_special_characters(text)\n",
        "    text = correct_char(text)\n",
        "\n",
        "\n",
        "    # Bước 4\n",
        "    def remove_repeated_characters(text):\n",
        "        return re.sub(r'(\\w)\\1+', r'\\1', text)\n",
        "\n",
        "    def remove_repeated_words(text):\n",
        "        words = text.split()\n",
        "        seen = set()\n",
        "        new_words = []\n",
        "        for word in words:\n",
        "            if word not in seen:\n",
        "                seen.add(word)\n",
        "                new_words.append(word)\n",
        "        return \" \".join(new_words)\n",
        "\n",
        "    text = remove_repeated_characters(text)\n",
        "    text = remove_repeated_words(text)\n",
        "\n",
        "    # Bước 5\n",
        "    def remove_emoji(text):\n",
        "        emoji_pattern = re.compile(\"[\"\n",
        "                                   u\"\\U0001F600-\\U0001F64F\"\n",
        "                                   u\"\\U0001F300-\\U0001F5FF\"\n",
        "                                   u\"\\U0001F680-\\U0001F6FF\"\n",
        "                                   u\"\\U0001F1E0-\\U0001F1FF\"\n",
        "                                   u\"\\U00002500-\\U00002BEF\"\n",
        "                                   u\"\\U00002702-\\U000027B0\"\n",
        "                                   u\"\\U00002702-\\U000027B0\"\n",
        "                                   u\"\\U000024C2-\\U0001F251\"\n",
        "                                   u\"\\U0001f926-\\U0001f937\"\n",
        "                                   u\"\\U00010000-\\U0010ffff\"\n",
        "                                   u\"\\u2640-\\u2642\"\n",
        "                                   u\"\\u2600-\\u2B55\"\n",
        "                                   u\"\\u200d\"\n",
        "                                   u\"\\u23cf\"\n",
        "                                   u\"\\u23e9\"\n",
        "                                   u\"\\u231a\"\n",
        "                                   u\"\\ufe0f\"\n",
        "                                   u\"\\u3030\"\n",
        "                                   \"]+\", flags=re.UNICODE)\n",
        "        return emoji_pattern.sub(r' ', text)\n",
        "\n",
        "    text = remove_emoji(text)\n",
        "\n",
        "    # Bước 6\n",
        "    def change_en_to_vn(text):\n",
        "\n",
        "        words = text.split()\n",
        "        for word in words:\n",
        "            for k, v in en2vi_dict.items():\n",
        "                if word == k:\n",
        "                    key = ' '+k+' '\n",
        "                    value = ' '+v+' '\n",
        "                    text = text.replace(key, value)\n",
        "        return text\n",
        "\n",
        "    text = change_en_to_vn(text)\n",
        "\n",
        "    # Bước 7\n",
        "    def teencode(text):\n",
        "\n",
        "        words = text.split()\n",
        "        for word in words:\n",
        "            for k, v in teencode_dict.items():\n",
        "                if word == k:\n",
        "                    key = ' '+k+' '\n",
        "                    value = ' '+v+' '\n",
        "                    text = text.replace(key, value)\n",
        "        return text\n",
        "\n",
        "    text = teencode(text)\n",
        "\n",
        "    # Bước 8\n",
        "    def remove_extra_spaces(text):\n",
        "        return ' '.join(text.split())\n",
        "\n",
        "    text = remove_extra_spaces(text)\n",
        "\n",
        "    def remove_text_over_len(text):\n",
        "        text = ' '.join([w for w in text.split() if len(w) <= 7])\n",
        "        return text\n",
        "\n",
        "    text = remove_text_over_len(text)\n",
        "\n",
        "    # Tokenize tiếng Việt\n",
        "    text = ViTokenizer.tokenize(text)\n",
        "\n",
        "    return text"
      ],
      "metadata": {
        "id": "dy1nR3YnUmsj"
      },
      "execution_count": null,
      "outputs": []
    },
    {
      "cell_type": "markdown",
      "source": [
        "#Load model"
      ],
      "metadata": {
        "id": "We4bnz-ow4wA"
      }
    },
    {
      "cell_type": "code",
      "source": [
        "loaded_model = joblib.load('/content/gdrive/MyDrive/Tieu_luan/model_BiLSTM_TextVectorization.pkl')"
      ],
      "metadata": {
        "id": "10XZrmfCcTsO"
      },
      "execution_count": null,
      "outputs": []
    },
    {
      "cell_type": "markdown",
      "source": [
        "#Xây dựng công cụ"
      ],
      "metadata": {
        "id": "y6dh_Cdzw8Yi"
      }
    },
    {
      "cell_type": "code",
      "source": [
        "from fastapi import FastAPI, Form\n",
        "from fastapi.responses import HTMLResponse\n",
        "from threading import Thread\n",
        "import uvicorn\n",
        "from pyngrok import ngrok\n",
        "import numpy as np\n",
        "import joblib\n",
        "\n",
        "# Khởi tạo ứng dụng FastAPI\n",
        "app = FastAPI()\n",
        "\n",
        "# Định nghĩa route (đường dẫn) cho form\n",
        "@app.get(\"/\", response_class=HTMLResponse)\n",
        "async def home():\n",
        "    return \"\"\"\n",
        "    <html>\n",
        "        <head>\n",
        "            <title>Đánh giá cảm xúc văn bản</title>\n",
        "            <style>\n",
        "             .center {\n",
        "                      position: absolute;\n",
        "                      top: 50%;\n",
        "                      left: 50%;\n",
        "                      transform: translate(-50%, -50%);\n",
        "                  }\n",
        "              #submitForm{\n",
        "                      width: 400px;\n",
        "                      padding: 20px;\n",
        "                      border: 2px solid #ccc;\n",
        "                      border-radius: 10px;\n",
        "                      box-shadow: 0 4px 8px rgba(0, 0, 0, 0.1);\n",
        "                      background-color: #fff;\n",
        "                      margin: auto;\n",
        "                  }\n",
        "\n",
        "                  label {\n",
        "                      display: block;\n",
        "                      margin-bottom: 10px;\n",
        "                      font-size: 18px;\n",
        "                  }\n",
        "\n",
        "                  input[type=\"text\"] {\n",
        "                      width: 100%;\n",
        "                      padding: 10px;\n",
        "                      border: 1px solid #ccc;\n",
        "                      border-radius: 5px;\n",
        "                      font-size: 16px;\n",
        "                  }\n",
        "\n",
        "                  button {\n",
        "                      margin-top: 20px;\n",
        "                      background-color: #4caf50;\n",
        "                      color: white;\n",
        "                      padding: 10px 0;\n",
        "                      border: none;\n",
        "                      border-radius: 5px;\n",
        "                      cursor: pointer;\n",
        "                      font-size: 16px;\n",
        "                      width: 100%;\n",
        "                  }\n",
        "\n",
        "                  button:hover {\n",
        "                      background-color: #45a049;\n",
        "                  }\n",
        "\n",
        "                  #result {\n",
        "                      margin-top: 20px;\n",
        "                  }\n",
        "            </style>\n",
        "        </head>\n",
        "        <body>\n",
        "        <div class = \"center\">\n",
        "            <form id=\"submitForm\">\n",
        "                <label for=\"text_input\">Hãy nhập văn bản cần kiểm tra:</label><br>\n",
        "                <input type=\"text\" id=\"text_input\" name=\"text_input\" required><br>\n",
        "                <button type=\"button\" onclick=\"predict()\">Kiểm tra</button>\n",
        "                <div id=\"result\"></div>\n",
        "            </form>\n",
        "\n",
        "        </div>\n",
        "            <script>\n",
        "                async function predict() {\n",
        "                    const text = document.getElementById(\"text_input\").value; // Lấy giá trị nhập vào từ thẻ input\n",
        "\n",
        "                    // Gửi yêu cầu POST đến endpoint /predict\n",
        "                    const response = await fetch('/predict', {\n",
        "                        method: 'POST',\n",
        "                        headers: {\n",
        "                            'Content-Type': 'application/x-www-form-urlencoded',\n",
        "                        },\n",
        "                        body: new URLSearchParams({ text_input: text }),\n",
        "                    });\n",
        "\n",
        "                    // Đọc nội dung của phản hồi\n",
        "                    const result = await response.text();\n",
        "\n",
        "                    // Hiển thị kết quả dự đoán trong thẻ div có id là \"result\"\n",
        "                    document.getElementById(\"result\").innerHTML = result;\n",
        "                }\n",
        "            </script>\n",
        "        </body>\n",
        "    </html>\n",
        "    \"\"\"\n",
        "\n",
        "@app.post(\"/predict\", response_class=HTMLResponse)\n",
        "async def predict(text_input: str = Form(...)):\n",
        "    # Thực hiện dự đoán ở đây\n",
        "    print(f\"Received input: {text_input}\")  # Thêm dòng log này để ghi lại dữ liệu text_input\n",
        "\n",
        "    token_input = [preprocess_text(text_input)]\n",
        "    token_input = np.array(token_input)\n",
        "    prediction = loaded_model.predict(token_input)\n",
        "\n",
        "    # Xác định kết quả và trả về\n",
        "    if prediction[0][0] <= prediction[0][1]:\n",
        "        result = \"Chuỗi tích cực.\"\n",
        "    else:\n",
        "        result = \"Chuỗi tiêu cực.\"\n",
        "\n",
        "    html_response = f\"<p>Chuỗi sau khi xử lí: {token_input}</p>\"\n",
        "    html_response += f\"<p>Chỉ số tích cực: {prediction[0][1] *100:.2f}%</p>\"\n",
        "    html_response += f\"<p>Chỉ số tiêu cực: {prediction[0][0] *100:.2f}%</p>\"\n",
        "    html_response += f\"<p>Kết quả dự đoán: {result}</p>\"\n",
        "    return html_response\n",
        "\n",
        "def run_app():\n",
        "    uvicorn.run(app, host=\"0.0.0.0\", port=4040)\n",
        "\n",
        "thread = Thread(target=run_app)\n",
        "thread.start()\n",
        "\n",
        "ngrok.set_auth_token(\"2hhcjfMgajF0GkRezv7UFvg0b3D_4TxG17dk5izc1gEP5roHf\")\n",
        "\n",
        "ngrok_tunnel = ngrok.connect(4040)\n",
        "print(\"Public URL:\", ngrok_tunnel.public_url)\n"
      ],
      "metadata": {
        "id": "SKhdrkjjxino",
        "colab": {
          "base_uri": "https://localhost:8080/"
        },
        "outputId": "cc09b823-b97e-4c96-da0c-39060c279de0"
      },
      "execution_count": null,
      "outputs": [
        {
          "output_type": "stream",
          "name": "stdout",
          "text": [
            "Downloading ngrok ...\r"
          ]
        },
        {
          "output_type": "stream",
          "name": "stderr",
          "text": [
            "INFO:     Started server process [642]\n",
            "INFO:     Waiting for application startup.\n",
            "INFO:     Application startup complete.\n",
            "INFO:     Uvicorn running on http://0.0.0.0:4040 (Press CTRL+C to quit)\n"
          ]
        },
        {
          "output_type": "stream",
          "name": "stdout",
          "text": []
        },
        {
          "output_type": "stream",
          "name": "stderr",
          "text": [
            "WARNING:pyngrok.process.ngrok:t=2024-06-22T18:30:03+0000 lvl=warn msg=\"can't bind default web address, trying alternatives\" obj=web addr=127.0.0.1:4040\n"
          ]
        },
        {
          "output_type": "stream",
          "name": "stdout",
          "text": [
            "Public URL: https://05f6-34-125-200-19.ngrok-free.app\n"
          ]
        }
      ]
    },
    {
      "cell_type": "code",
      "source": [
        "sentence = \"sản phẩm không tốt\"\n",
        "text = preprocess_text(sentence)\n",
        "print(text)\n",
        "token_input = [text]\n",
        "token_input = np.array(token_input)\n",
        "prediction = loaded_model.predict(token_input)\n",
        "print(prediction)\n",
        "\n",
        "# lớp 0 là tiêu cực, 1 là tích cực\n",
        "\n",
        "if prediction[0][0] <= prediction[0][1]:\n",
        "    print(\"Chuỗi tích cực.\")\n",
        "else:\n",
        "    print(\"Chuỗi tiêu cực.\")\n"
      ],
      "metadata": {
        "id": "IbTqUSY8GOxM",
        "colab": {
          "base_uri": "https://localhost:8080/"
        },
        "outputId": "c0575cc7-5a33-4199-88bb-ea2b859fcffe"
      },
      "execution_count": null,
      "outputs": [
        {
          "output_type": "stream",
          "name": "stdout",
          "text": [
            "sản_phẩm không tốt\n",
            "1/1 [==============================] - 0s 123ms/step\n",
            "[[0.7297815  0.27025032]]\n",
            "Chuỗi tiêu cực.\n"
          ]
        }
      ]
    }
  ]
}